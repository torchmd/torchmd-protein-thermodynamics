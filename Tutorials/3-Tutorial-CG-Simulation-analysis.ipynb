{
 "cells": [
  {
   "cell_type": "markdown",
   "id": "a71da321",
   "metadata": {},
   "source": [
    "# Tutorial - CG simulation analysis"
   ]
  },
  {
   "cell_type": "markdown",
   "id": "8bc30415",
   "metadata": {},
   "source": [
    "This tutorial covers the analysis of the coarse-grained simulations performed with our trained CG potential, comparing the results obtained with the reference MD simulations. We will use Protein G as the example system. The tutorial shows how to reconstruct its free-energy surface using Markov state model analysis, as well as looking into further details such as detailed trajectory analysis and secondary structure. The analysis worflow explained here focuses on reproducing the figures from the publication. \n",
    "\n",
    "You can find all the necessary data to run the tutorial in this [link](http://pub.htmd.org/protein_thermodynamics_data/Tutorial-CG-Simulation-analysis-files.tar.gz). The `./Tutorial-files/` folder contains all the relevant files necessary to run the notebook, such as the CG simulation trajectories or the reference MD Markov state model, projections and TICA covariances. All the analysis shown in this notebook is performed with the `htmd=2.0.4` python library, plus `matplotlib` and `seaborn` for producing the plots. Some additional functions can also be found in the `./tutorial_utils.py` script provided."
   ]
  },
  {
   "cell_type": "code",
   "execution_count": null,
   "id": "c38ea3e0",
   "metadata": {},
   "outputs": [],
   "source": [
    "from htmd.ui import *\n",
    "import matplotlib\n",
    "import matplotlib.pyplot as plt\n",
    "import seaborn as sns"
   ]
  },
  {
   "cell_type": "code",
   "execution_count": null,
   "id": "28702395",
   "metadata": {},
   "outputs": [],
   "source": [
    "from tutorial_utils import plotContour, plotstates"
   ]
  },
  {
   "cell_type": "markdown",
   "id": "776768de",
   "metadata": {},
   "source": [
    "## Reference MD simulations"
   ]
  },
  {
   "cell_type": "markdown",
   "id": "d660c990",
   "metadata": {},
   "source": [
    "We start our analysis by loading files from the reference Protein G long MD simulations. These files include the native structure, obtained experimentally, the Markov state model made out of 2.2 ms of MD simulations and the TICA covariances, which we will use to project the coarse-grained trajectories"
   ]
  },
  {
   "cell_type": "code",
   "execution_count": null,
   "id": "cb723172",
   "metadata": {},
   "outputs": [],
   "source": [
    "from pyemma.coordinates.transform.tica import TICA as TICApyemma\n",
    "from tutorial_utils import computeWeights\n",
    "\n",
    "refmol = Molecule('Tutorial-files/proteing_1mi0.pdb')\n",
    "reftic = TICApyemma(20).load('Tutorial-files/proteing_TICA_lag20_CAdist_skip1.dat')\n",
    "\n",
    "refmodel = Model(file='Tutorial-files/proteing_model_lag10ns_1200k_4ticadim_CAdist_skip1.dat')\n",
    "mweights = computeWeights(refmodel)"
   ]
  },
  {
   "cell_type": "code",
   "execution_count": null,
   "id": "bd16060a",
   "metadata": {},
   "outputs": [],
   "source": [
    "levels = np.arange(0, 7.6, 1.5)\n",
    "cmap = 'viridis'\n",
    "dimx, dimy = 0,1\n",
    "refstates = list(range(4))[::-1]\n",
    "\n",
    "plt.figure(figsize=[10, 10])\n",
    "plotContour(np.concatenate(refmodel.data.dat), mweights, levels, dimx=dimx, dimy=dimy, cmap=cmap)\n",
    "cbar = plt.colorbar()\n",
    "cbar.ax.tick_params() \n",
    "cbar.ax.get_yaxis().labelpad = 20\n",
    "cbar.ax.set_ylabel('kcal/mol', rotation=270)\n",
    "# plotstates(refmodel, states=refstates, dimx=dimx, dimy=dimy, cmap='tab20')\n",
    "# plt.legend(fontsize=10, bbox_to_anchor=(1.25, 1), loc='upper left')\n",
    "plt.xlabel(f'TICA dim {dimx}', size=16)\n",
    "plt.ylabel(f'TICA dim {dimy}', size=16)\n",
    "plt.title('Reference MD simulations - {:.1f}µs'.format(np.concatenate(refmodel.data.dat).shape[0] * 0.1))\n",
    "plt.show()"
   ]
  },
  {
   "cell_type": "markdown",
   "id": "69437514",
   "metadata": {},
   "source": [
    "The plot above shows the free-energy surface estimation obtained from the reference MD simulations, which we are going to use to evaluate and compare with the coarse-grained simulations we have performed with the trained potential"
   ]
  },
  {
   "cell_type": "markdown",
   "id": "2b1913c3",
   "metadata": {},
   "source": [
    "## Coarse-grained simulation analysis"
   ]
  },
  {
   "cell_type": "markdown",
   "id": "dcac8818",
   "metadata": {},
   "source": [
    "After loading the reference, we can start analyzing the coarse-grained simulations! In the `./Tutorial-files/` folder you can find some example coarse-grained trajectories of Protein G, simulated using the Protein G specific coarse-grained potential. We will load the trajectories into a `simlist` that will be used by `htmd` to access the trajectories. "
   ]
  },
  {
   "cell_type": "code",
   "execution_count": null,
   "id": "63dd5bf3",
   "metadata": {},
   "outputs": [],
   "source": [
    "psf_file = f'Tutorial-files/proteing_ca_top_dih.psf'\n",
    "pdb_file = f'Tutorial-files/proteing_ca_top_dih.pdb'\n",
    "sims = simlist(glob('Tutorial-files/proteing_32trajs_250_ts1/*'), pdb_file)"
   ]
  },
  {
   "cell_type": "markdown",
   "id": "c46e4f15",
   "metadata": {},
   "source": [
    "The first thing we'll do is project all our trajectories to a lower dimensional metric. We will use distances between all beads. To do so, we create a `Metric` object using our simlist (we will also skip every 2 frames to reproduce the same results as in the publication), and we define the projection metric with `MetricSelfDistance`. We also set the timestep of our coarse-grained trajectories to 0.0001 ns."
   ]
  },
  {
   "cell_type": "code",
   "execution_count": null,
   "id": "af2305fa",
   "metadata": {},
   "outputs": [],
   "source": [
    "skip = 2\n",
    "metr = Metric(sims, skip=skip)\n",
    "metr.set(MetricSelfDistance('all', periodic=None))\n",
    "data = metr.project()\n",
    "data.fstep = 0.0001 * skip"
   ]
  },
  {
   "cell_type": "markdown",
   "id": "abd93675",
   "metadata": {},
   "source": [
    "After that, we need to reduce the dimensionality of the data even further for the Markov state model analysis. We will use the time-lagged independent component analysis (TICA), but instead of computing the covariances with the projected coarse-grained bead distances, we will use the ones estimated with the reference MD dataset (loaded in the previous section on `reftic`). In this way, we will be able to directly compare the projected space with the reference MD, and better evaluate the performance of out coarse-grained potential\n",
    "\n",
    "Also, to avoid any bias from the starting conformation of the coarse-grained trajectories, we will take out the first 10% frames."
   ]
  },
  {
   "cell_type": "code",
   "execution_count": null,
   "id": "44479616",
   "metadata": {},
   "outputs": [],
   "source": [
    "ticadim = 3\n",
    "init_frames = 0.1\n",
    "reftic.set_params(dim=ticadim)\n",
    "datatica = reftic.transform(np.concatenate([line[int(line.shape[0] * init_frames):] for line in data.dat]))\n",
    "datatica = MetricData(dat=datatica.reshape(len(data.simlist), -1, ticadim), simlist=data.simlist, fstep=data.fstep)"
   ]
  },
  {
   "cell_type": "markdown",
   "id": "37f9d555",
   "metadata": {},
   "source": [
    "Once the data has been projected onto the main reference TICA components, we will proceed with data clustering and Markov state model estimation. We'll set it to cluster microstates into 4 main macrostates, same as the reference Markov state model."
   ]
  },
  {
   "cell_type": "code",
   "execution_count": null,
   "id": "d927b0a6",
   "metadata": {},
   "outputs": [],
   "source": [
    "nclust = 200\n",
    "datatica.cluster(MiniBatchKMeans(nclust))"
   ]
  },
  {
   "cell_type": "code",
   "execution_count": null,
   "id": "31deb99a",
   "metadata": {},
   "outputs": [],
   "source": [
    "macronum = 4\n",
    "lag = 0.01\n",
    "cgmodel = Model(datatica)\n",
    "cgmodel.markovModel(lag, macronum, units='ns')\n",
    "cgweights = computeWeights(cgmodel)"
   ]
  },
  {
   "cell_type": "code",
   "execution_count": null,
   "id": "7e93f436",
   "metadata": {},
   "outputs": [],
   "source": [
    "cgmodel.plotTimescales(maxlag=0.1, units='ns')"
   ]
  },
  {
   "cell_type": "markdown",
   "id": "daeb95a1",
   "metadata": {},
   "source": [
    "And now that we have Markov state model, we can compare the estimated free energy surface with the one obtained from the reference MD simulations. Here we show both plots for 2D and 1D free energy surface. To estimate the free energy surface, we histogram the projected TICA space into 80 bins, and we reweight the histogram using the Markov state model stationary distribution. For more details, look into the `plotContour` and `computeWeights` functions in `./tutorial_utils.py`"
   ]
  },
  {
   "cell_type": "code",
   "execution_count": null,
   "id": "9c322e8c",
   "metadata": {},
   "outputs": [],
   "source": [
    "levels = np.arange(0, 7.6, 1.5)\n",
    "cmap = 'viridis'\n",
    "dimx, dimy = 0,1\n",
    "states = list(range(cgmodel.macronum))[::-1]\n",
    "refstates = list(range(refmodel.macronum))[::-1]\n",
    "\n",
    "fig, ax = plt.subplots(ncols=2, figsize=[26,11])\n",
    "\n",
    "plt.sca(ax[0])\n",
    "plotContour(np.concatenate(cgmodel.data.dat), cgweights, levels, dimx=dimx, dimy=dimy, cmap=cmap)\n",
    "cbar = plt.colorbar()\n",
    "cbar.ax.tick_params() \n",
    "cbar.ax.get_yaxis().labelpad = 20\n",
    "cbar.ax.set_ylabel('kcal/mol', rotation=270)\n",
    "# plotstates(cgmodel, states=states, dimx=dimx, dimy=dimy, cmap='tab20')\n",
    "# plt.legend(fontsize=14, bbox_to_anchor=(1.15, 1), loc='upper left')\n",
    "plt.xlabel(f'TICA dim {dimx}', size=16)\n",
    "plt.ylabel(f'TICA dim {dimy}', size=16)\n",
    "plt.title('CG simulations- {:.1f}µs'.format(np.concatenate(cgmodel.data.dat).shape[0] * 0.002))\n",
    "\n",
    "\n",
    "plt.sca(ax[1])\n",
    "plotContour(np.concatenate(refmodel.data.dat), mweights, levels, dimx=dimx, dimy=dimy, cmap=cmap)\n",
    "cbar = plt.colorbar()\n",
    "cbar.ax.tick_params() \n",
    "cbar.ax.get_yaxis().labelpad = 20\n",
    "cbar.ax.set_ylabel('kcal/mol', rotation=270)\n",
    "# plotstates(refmodel, states=refstates, dimx=dimx, dimy=dimy, cmap='tab20')\n",
    "# plt.legend(fontsize=14, bbox_to_anchor=(1.15, 1), loc='upper left')\n",
    "plt.xlabel(f'TICA dim {dimx}', size=16)\n",
    "plt.ylabel(f'TICA dim {dimy}', size=16)\n",
    "plt.title('Reference MD simulations - {:.1f}µs'.format(np.concatenate(refmodel.data.dat).shape[0] * 0.1))\n",
    "plt.show()"
   ]
  },
  {
   "cell_type": "code",
   "execution_count": null,
   "id": "1f270fd9",
   "metadata": {},
   "outputs": [],
   "source": [
    "def get1dtica(data, weights, bins=120, dim=0):\n",
    "    counts, bins = np.histogram(data[:,dim], bins=bins, weights=weights)\n",
    "    energy =  -Kinetics._kB*300*np.log(counts)\n",
    "    ecorr = np.min(energy[energy!=0])\n",
    "    energy = energy - ecorr\n",
    "    return energy, bins\n",
    "\n",
    "bins=120\n",
    "ref_energy, ref_bins = get1dtica(np.concatenate(refmodel.data.dat), mweights, bins=bins)\n",
    "cg_energy, cg_bins = get1dtica(np.concatenate(cgmodel.data.dat), cgweights, bins=bins)\n",
    "crystal_dist = MetricSelfDistance('name CA', pbc=None).project(refmol)\n",
    "reftic.set_params(dim=3)\n",
    "tica_crystal = reftic.transform(crystal_dist).flatten()\n",
    "\n",
    "plt.figure(figsize=[8,8])\n",
    "sns.lineplot(x=ref_bins[:-1], y=ref_energy, label='Ref', alpha=0.5)\n",
    "plt.fill_between(ref_bins[:-1], ref_energy, alpha=0.3)\n",
    "sns.lineplot(x=cg_bins[:-1], y=cg_energy, label='CG', color='lightgreen')\n",
    "plt.fill_between(cg_bins[:-1], cg_energy, alpha=0.3, color='lightgreen')\n",
    "plt.scatter(tica_crystal[0], -0.15, s=40, marker='|', c='red', label='Crystal')\n",
    "\n",
    "plt.xlabel(f'TIC 1')\n",
    "plt.ylabel(f'Free energy (kcal/mol)')\n",
    "plt.title(f'1D TICA')\n",
    "plt.legend(loc='upper center')\n",
    "plt.show()"
   ]
  },
  {
   "cell_type": "markdown",
   "id": "d65ef00d",
   "metadata": {},
   "source": [
    "## Individual trajectory analysis"
   ]
  },
  {
   "cell_type": "markdown",
   "id": "25c9187e",
   "metadata": {},
   "source": [
    "Here we provide some code used to inspect individual trajectories. We project the selected trajectory over the reference TICA space, in order to see all the minimas it has explored. We also project an RMSD plot of the trajectory compared to the native conformation. You can change the `trajectory` variable to explore the 32 different trajectories provided."
   ]
  },
  {
   "cell_type": "code",
   "execution_count": null,
   "id": "b11605b9",
   "metadata": {},
   "outputs": [],
   "source": [
    "sns.set_context('poster')\n",
    "xlim0, xlim1, ylim0, ylim1 = [-2, 2, -3.1, 2.9]\n",
    "levels = [0, 2.5, 5, 7.5]\n",
    "trajectory = 14\n",
    "#plot TICA\n",
    "\n",
    "\n",
    "plotContour(np.concatenate(cgmodel.data.dat), weights=cgweights, \n",
    "                levels=levels, cmap='gray')\n",
    "clb = plt.colorbar()\n",
    "clb.set_label('kcal/mol', rotation=90)\n",
    "plt.axis('equal')\n",
    "plt.grid(alpha=0.5)\n",
    "plt.xlim([xlim0, xlim1])\n",
    "plt.ylim([ylim0, ylim1])\n",
    "plt.xlabel('TIC1')\n",
    "plt.ylabel('TIC2')\n",
    "plotContour(np.concatenate(refmodel.data.dat), weights=mweights, fill = False, levels=levels, cmap='Greys_r', \n",
    "            colors='red', alpha = 0.5)\n",
    "\n",
    "plt.title(f'Protein G - Trajectory {trajectory}\\n')\n",
    "\n",
    "mol = Molecule(psf_file)\n",
    "mol.read(f'Tutorial-files/proteing_32trajs_250_ts1/traj_{trajectory}/traj_{trajectory}.xtc')\n",
    "\n",
    "mol_dist = MetricSelfDistance('name CA', pbc=None).project(mol)\n",
    "tica_mol = reftic.transform(mol_dist)\n",
    "\n",
    "skip = int(tica_mol.shape[0]/100)\n",
    "cmap = matplotlib.cm.get_cmap('viridis')\n",
    "segments_x = np.stack((tica_mol[::skip,0][:-1], tica_mol[::skip,0][1:]))\n",
    "segments_y = np.stack((tica_mol[::skip,1][:-1], tica_mol[::skip,1][1:]))\n",
    "nsegs = segments_x.shape[1]\n",
    "\n",
    "plt.plot(segments_x, segments_y, c='white', linewidth = 2.5)\n",
    "for i in range(nsegs):\n",
    "    plt.plot(segments_x[:, i], segments_y[:, i], c=cmap(i/nsegs), linewidth = 2)\n",
    "plt.show() \n",
    "\n",
    "#plot RMSD\n",
    "\n",
    "metr = MetricRmsd(refmol, 'name CA', pbc=False)\n",
    "rmsd = metr.project(mol)\n",
    "ts = 0.0001\n",
    "time = np.arange(0, rmsd.shape[0]*ts, ts)\n",
    "#     plt.plot(time, rmsd, c='r')\n",
    "\n",
    "for i in range(nsegs):\n",
    "    if i == nsegs-1:\n",
    "        plt.plot(time[i*skip:], rmsd[i*skip:], c=cmap(i/nsegs))\n",
    "    else:\n",
    "        plt.plot(time[i*skip:(i+1)*skip+1], rmsd[i*skip:(i+1)*skip+1], c=cmap(i/nsegs))\n",
    "\n",
    "plt.xlabel('Time [ns]')\n",
    "plt.ylabel(r'RMSD [$\\AA$]')\n",
    "plt.grid(visible=True)\n",
    "plt.xlim([0, rmsd.shape[0]*ts])\n",
    "plt.show()\n",
    "sns.reset_orig()"
   ]
  },
  {
   "cell_type": "markdown",
   "id": "e5c9135b",
   "metadata": {},
   "source": [
    "## MSM macrostate samples & backbone reconstruction"
   ]
  },
  {
   "cell_type": "markdown",
   "id": "74cf2441",
   "metadata": {},
   "source": [
    "The next step of our analysis involves a secondary structure summary of the different macrostates in the coarse-grained Markov state model. However, since the coarse-grained simulations only contain CA atoms, we will need to reconstruct all the backbone atoms. We used a very basic algorithm for backbone reconstruction (you can take a look at the `build_backbone` function in `./tutorial_utils.py`), which will be enough for the purposes of this analysis. \n",
    "\n",
    "We will first need to get some samples from all macrostates. We need to obtain samples from the reference model, in order to make more accurate backbone reconstructions. For that, we can use the `.sampleStates()` method. However, for obtaining state samples on the coarse-grained model, we need to use the custom-made `sample_state` function in `./tutorial_utils.py`."
   ]
  },
  {
   "cell_type": "code",
   "execution_count": null,
   "id": "70c2d4f2",
   "metadata": {},
   "outputs": [],
   "source": [
    "from tutorial_utils import sample_state, build_backbone"
   ]
  },
  {
   "cell_type": "code",
   "execution_count": null,
   "id": "308bbfcb",
   "metadata": {},
   "outputs": [],
   "source": [
    "ref_selmacro = [3,2,1,0]\n",
    "ref_molsampl = refmodel.sampleStates(states=ref_selmacro, samplemode='random', frames=50)[1]"
   ]
  },
  {
   "cell_type": "code",
   "execution_count": null,
   "id": "de8801a4",
   "metadata": {},
   "outputs": [],
   "source": [
    "cg_selmacro = [3,2,1,0]\n",
    "for macro in cg_selmacro:\n",
    "    ref = ref_molsampl[macro][-1]\n",
    "    simid = refmodel.data.simlist[ref[0]]\n",
    "    refmol = Molecule(simid.molfile)\n",
    "    refmol.read(simid.trajectory[0], frames=ref[1])\n",
    "    mol, molsampl = sample_state(cgmodel, macro, 'macro')\n",
    "    samples_rmsd = MetricRmsd(refmol, 'name CA', pbc=False).project(mol)\n",
    "    bbmol = build_backbone(mol, refmol)\n",
    "#   bbmol.write(f'Tutorial-files/proteing_CG_macrosample_M{macro}.pdb')\n",
    "#   bbmol.write(f'Tutorial-files/proteing_CG_macrosample_M{macro}.xtc')"
   ]
  },
  {
   "cell_type": "markdown",
   "id": "c84a3b8e",
   "metadata": {
    "execution": {
     "iopub.execute_input": "2022-12-01T14:52:06.741379Z",
     "iopub.status.busy": "2022-12-01T14:52:06.740792Z",
     "iopub.status.idle": "2022-12-01T14:52:06.749101Z",
     "shell.execute_reply": "2022-12-01T14:52:06.747690Z",
     "shell.execute_reply.started": "2022-12-01T14:52:06.741313Z"
    }
   },
   "source": [
    "## Secondary Structure"
   ]
  },
  {
   "cell_type": "markdown",
   "id": "5c7f0cec",
   "metadata": {},
   "source": [
    "Once we have the backbone-reconstructed samples from all macrostates, we can proceed now with the secondary structure analysis. To do so, we will compute the RMSD to the native structure of different secondary structural elements present in Protein G, and get macrostate averages for each of them, gaining insight into the secondary strucutre propensity of each macrostate.\n",
    "\n",
    "For this particular example here and for the sake of speed, we will just use the samples we got from all macrostates, which only contain 50 frames,. Therefore, the results of the plot below can vary depending on the samples obtained and may not be accurate. The complete analysis for all frames can be found in the same plot on Figure 3 in the publication, where we used all frames to estimate the secondary structure propensity."
   ]
  },
  {
   "cell_type": "code",
   "execution_count": null,
   "id": "ae485103",
   "metadata": {},
   "outputs": [],
   "source": [
    "ss_elems = {'B1': [0,7],\n",
    "            'B2': [12,19],\n",
    "            'B3': [41,45],\n",
    "            'B4': [49,53],\n",
    "            'H':  [22,36]}\n",
    "\n",
    "refmol_CA = refmol.copy()\n",
    "refmol_CA.filter('name CA')\n",
    "\n",
    "helix_rmsd = []\n",
    "sheet12_rmsd = []\n",
    "sheet34_rmsd = []\n",
    "sheet14_rmsd = []\n",
    "\n",
    "for macro in range(cgmodel.macronum):\n",
    "    mol = Molecule(f'Tutorial-files/proteing_CG_macrostate_samples/proteing_CG_macrosample_M{macro}.pdb')\n",
    "    mol.read(f'Tutorial-files/proteing_CG_macrostate_samples/proteing_CG_macrosample_M{macro}.xtc')\n",
    "    mol.filter('name CA', _logger=False)\n",
    "    \n",
    "    #helix\n",
    "    trajrmsdstr = f'resid {mol.resid[ss_elems[\"H\"][0]]} to {mol.resid[ss_elems[\"H\"][1]]}'\n",
    "    refrmsdstr = f'resid {refmol_CA.resid[ss_elems[\"H\"][0]]} to {refmol_CA.resid[ss_elems[\"H\"][1]]}'\n",
    "    metr = MetricRmsd(refmol_CA, trajrmsdstr=trajrmsdstr, refrmsdstr=refrmsdstr, trajalnstr=trajrmsdstr, refalnstr=refrmsdstr, pbc=False)\n",
    "    helix_rmsd.append(metr.project(mol))\n",
    "    \n",
    "    #1-2 hairpin\n",
    "    trajrmsdstr = f'resid {mol.resid[ss_elems[\"B1\"][0]]} to {mol.resid[ss_elems[\"B1\"][1]]} or resid {mol.resid[ss_elems[\"B2\"][0]]} to {mol.resid[ss_elems[\"B2\"][1]]}'\n",
    "    refrmsdstr = f'resid {refmol_CA.resid[ss_elems[\"B1\"][0]]} to {refmol_CA.resid[ss_elems[\"B1\"][1]]} or resid {refmol_CA.resid[ss_elems[\"B2\"][0]]} to {refmol_CA.resid[ss_elems[\"B2\"][1]]}'\n",
    "    metr = MetricRmsd(refmol_CA, trajrmsdstr=trajrmsdstr, refrmsdstr=refrmsdstr, trajalnstr=trajrmsdstr, refalnstr=refrmsdstr, pbc=False)\n",
    "    sheet12_rmsd.append(metr.project(mol))\n",
    "    \n",
    "    #3-4 haipin \n",
    "    trajrmsdstr = f'resid {mol.resid[ss_elems[\"B3\"][0]]} to {mol.resid[ss_elems[\"B3\"][1]]} or resid {mol.resid[ss_elems[\"B4\"][0]]} to {mol.resid[ss_elems[\"B4\"][1]]}'\n",
    "    refrmsdstr = f'resid {refmol_CA.resid[ss_elems[\"B3\"][0]]} to {refmol_CA.resid[ss_elems[\"B3\"][1]]} or resid {refmol_CA.resid[ss_elems[\"B4\"][0]]} to {refmol_CA.resid[ss_elems[\"B4\"][1]]}'\n",
    "    metr = MetricRmsd(refmol_CA, trajrmsdstr=trajrmsdstr, refrmsdstr=refrmsdstr, trajalnstr=trajrmsdstr, refalnstr=refrmsdstr, pbc=False)\n",
    "    sheet34_rmsd.append(metr.project(mol))\n",
    "    \n",
    "    #1-4 hairpin\n",
    "    trajrmsdstr = f'resid {mol.resid[ss_elems[\"B1\"][0]]} to {mol.resid[ss_elems[\"B1\"][1]]} or resid {mol.resid[ss_elems[\"B4\"][0]]} to {mol.resid[ss_elems[\"B4\"][1]]}'\n",
    "    refrmsdstr = f'resid {refmol_CA.resid[ss_elems[\"B1\"][0]]} to {refmol_CA.resid[ss_elems[\"B1\"][1]]} or resid {refmol_CA.resid[ss_elems[\"B4\"][0]]} to {refmol_CA.resid[ss_elems[\"B4\"][1]]}'\n",
    "    metr = MetricRmsd(refmol_CA, trajrmsdstr=trajrmsdstr, refrmsdstr=refrmsdstr, trajalnstr=trajrmsdstr, refalnstr=refrmsdstr, pbc=False)\n",
    "    sheet14_rmsd.append(metr.project(mol))\n",
    "    \n",
    "helix_rmsd = np.array(helix_rmsd)\n",
    "sheet12_rmsd = np.array(sheet12_rmsd)\n",
    "sheet34_rmsd = np.array(sheet34_rmsd)\n",
    "sheet14_rmsd = np.array(sheet14_rmsd)"
   ]
  },
  {
   "cell_type": "code",
   "execution_count": null,
   "id": "f7574416",
   "metadata": {},
   "outputs": [],
   "source": [
    "results = []\n",
    "thr = 2\n",
    "for element in [helix_rmsd, sheet12_rmsd, sheet34_rmsd, sheet14_rmsd]:\n",
    "    results.append((element < thr).mean(axis=1))\n",
    "\n",
    "results = np.array(results)\n",
    "results = np.transpose(results)\n",
    "\n",
    "labels=[r'$\\alpha$-helix', r'1,2-$\\beta$-strand', r'3,4-$\\beta$-strand', r'1,4-$\\beta$-strand']\n",
    "\n",
    "plt.figure(figsize=[8,8])\n",
    "ax = sns.heatmap(results[[2,1,0,3], :], \n",
    "                 yticklabels= ['Unfolded','Part. folded','Misfolded','Folded'], \n",
    "                 xticklabels=labels,\n",
    "                cmap='Blues')\n",
    "\n",
    "plt.title('Secondary Structure Propensity')\n",
    "plt.show()"
   ]
  },
  {
   "cell_type": "code",
   "execution_count": null,
   "id": "6466a175",
   "metadata": {},
   "outputs": [],
   "source": []
  }
 ],
 "metadata": {
  "kernelspec": {
   "display_name": "Python 3 (ipykernel)",
   "language": "python",
   "name": "python3"
  },
  "language_info": {
   "codemirror_mode": {
    "name": "ipython",
    "version": 3
   },
   "file_extension": ".py",
   "mimetype": "text/x-python",
   "name": "python",
   "nbconvert_exporter": "python",
   "pygments_lexer": "ipython3",
   "version": "3.10.16"
  }
 },
 "nbformat": 4,
 "nbformat_minor": 5
}
