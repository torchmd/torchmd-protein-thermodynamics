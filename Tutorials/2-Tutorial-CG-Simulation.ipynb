{
 "cells": [
  {
   "attachments": {},
   "cell_type": "markdown",
   "metadata": {},
   "source": [
    "# Simulation using NNP\n",
    "\n",
    "In this tutorial, we provide instructions on running MD using NNP and prior forcefield. To execute the tutorial please install:\n",
    "* torchmd: https://github.com/torchmd/torchmd\n",
    "* torchmd-net: https://github.com/torchmd/torchmd-net\n",
    "\n",
    "For simplicity, we will demonstrate how to run MD using Chignolin. However, we provide the NNPs trained with all targeted proteins as well as muiltiprotein-trained potential. "
   ]
  },
  {
   "cell_type": "code",
   "execution_count": null,
   "metadata": {},
   "outputs": [],
   "source": [
    "!wget pub.htmd.org/protein_thermodynamics_data/Models.zip\n",
    "tar -xf Models.zip"
   ]
  },
  {
   "attachments": {},
   "cell_type": "markdown",
   "metadata": {},
   "source": [
    "# Simulation "
   ]
  },
  {
   "attachments": {},
   "cell_type": "markdown",
   "metadata": {},
   "source": [
    "We will use model trained on Chignolin data provided in `Models/cln/model.ckpt` to simulate the coarse-grained system with torchMD. It can be also a network trained in `1-Tutorial-CG-NNP-Training.ipynb`\n",
    "\n",
    "Forces acting on beads have two components:\n",
    "\n",
    "1. Prior forces, defined in `prior_force_field.yaml` file. The prior force terms applied here:\n",
    "* Bonds\n",
    "* RepulsionCG\n",
    "* Dihedral\n",
    "2. Neural Network Potential. The NNP is introduced to torchMD as external force with the use of calculator `torchmdnet.calculators` provided in `torchmd-net` github repository. The external force calculator class has to have `calculate` method that returns a tuple with energy and force tensors.\n",
    "\n",
    "The input file `simulate.yaml` for the simulation has a series of parameters:\n",
    "\n",
    "```yaml\n",
    "device: cuda:0\n",
    "forcefield: prior_force_field.yaml\n",
    "forceterms:\n",
    "- Bonds\n",
    "- RepulsionCG\n",
    "- Dihedrals\n",
    "exclusions: ('bonds')\n",
    "langevin_gamma: 1\n",
    "langevin_temperature: 350\n",
    "log_dir: cln_32trajs_350_ts1\n",
    "output: output\n",
    "output_period: 100\n",
    "precision: double\n",
    "replicas: 32\n",
    "rfa: false\n",
    "save_period: 1000\n",
    "seed: 1\n",
    "steps: 5000000\n",
    "topology: topology/cln.psf\n",
    "coordinates: starting_xtc/cln_kcenters_32clusters_coords.xtc\n",
    "temperature: 350\n",
    "timestep: 1\n",
    "external:\n",
    "  module: torchmdnet.calculators\n",
    "  embeddings: [4, 4, 5, 8, 6, 13, 2, 13, 7, 4]\n",
    "  file: Models/cln/model.ckpt\n",
    "```\n",
    "\n",
    "It can be run as torchMD script:\n",
    "\n",
    "```bash\n",
    "python $PATH/torchmd/run.py --conf simulate.yaml\n",
    "```\n",
    "\n",
    "where `$PATH` is a path to your `torchmd` repo (not `torchmd-net` linke in `1-Tutorial-CG-NNP-Training.ipynb`)\n",
    "\n",
    "The simulation GPU and should take a couple of hours on a standard GPU, however can be also run on a CPU.\n",
    "\n",
    "Now we will go through options in a configuration file:\n",
    "\n",
    "* First we define `device`, the directory `log_dir` and name of the output files `output`.\n",
    "* in fields `topology` and `coordinates` we define a file with the topology of simulated system in PSF format and XTC file with initial coordinates for the simulation. In here `starting_xtc/cln_kcenters_32clusters_coords.xtc` contains 32 frames with initial conformations for chignolin, equally distributed over free energy landscape prodiced with all-atom MD. Therefore number of `replicas` is set to 32. \n",
    "* `forcefield` defines a file with a forcefield and `forceterms` defines force terms used in the simulation.\n",
    "* `external` defines parameters for an external force acting on the system, in here, neural network: its location `file`, calculator with appropriate class `module` and `embeddings` that will be used as an input for the network and technically have to correspond to a set of embeddings used in the training. However in case of a general network, transferable across the systems the embeddings do not have to overlap.\n",
    "* `langevin_gamma` and `langevin_gamma` define parameters of the thermostat\n",
    "* `temperature` defines the initial temperature of the system, that influences the initial velocities of the atoms.\n",
    "* `precision` double or single\n",
    "* `seed` for the calculation\n",
    "* And finally a set of parameters defining the length of the simulation. `timestep` in fs here is defined as 1fs, however, in case of stable systems the step can be as high as 10fs. `steps` define the length of the simulation, in here it will be 10 000 000 * 1 fs = 10 ns in total. `output_period` indicates that the progress of the simulation and trajectory will be saved every 1 000 steps (1ps) and `save_period` indicates that the output files will be updated every 1 000 steps. "
   ]
  }
 ],
 "metadata": {
  "kernelspec": {
   "display_name": "Python 3 (ipykernel)",
   "language": "python",
   "name": "python3"
  },
  "language_info": {
   "codemirror_mode": {
    "name": "ipython",
    "version": 3
   },
   "file_extension": ".py",
   "mimetype": "text/x-python",
   "name": "python",
   "nbconvert_exporter": "python",
   "pygments_lexer": "ipython3",
   "version": "3.11.0"
  }
 },
 "nbformat": 4,
 "nbformat_minor": 4
}
